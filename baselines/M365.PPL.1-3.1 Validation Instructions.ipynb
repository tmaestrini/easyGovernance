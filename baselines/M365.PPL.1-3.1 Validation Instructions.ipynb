{
 "cells": [
  {
   "cell_type": "markdown",
   "metadata": {},
   "source": [
    "References: https://www.cisa.gov/resources-tools/services/m365-power-platform\n",
    "\n",
    "# Environments\n",
    "\n",
    "## DefaultEnvironment\n",
    "\n",
    "- Name: \"Personal Productivity (default)\" # Specifies the default environment name."
   ]
  },
  {
   "cell_type": "markdown",
   "metadata": {},
   "source": [
    "GET https://api.bap.microsoft.com/providers/Microsoft.BusinessAppPlatform/scopes/admin/environments/?api-version=2024-05-01"
   ]
  },
  {
   "cell_type": "raw",
   "metadata": {},
   "source": [
    "const titleToBeSet = \"Personal Productivity (default)\"\n",
    "pm.test(`Default environment is set to '${titleToBeSet}`, function () {\n",
    "    const devEnv = res.value.filter(e => e.properties.environmentSku === 'Default');\n",
    "    console.log(devEnv?.[0]);\n",
    "    pm.expect(devEnv).to.have.lengthOf(1);\n",
    "    pm.expect((devEnv?.[0].properties.displayName)).to.equal(titleToBeSet);\n",
    "});"
   ]
  },
  {
   "cell_type": "markdown",
   "metadata": {},
   "source": [
    "- Monitoring: true # Specifies whether the monitoring is enabled\n",
    "(💥 noch nicht herausgefunden, wie zu lösen)"
   ]
  },
  {
   "cell_type": "code",
   "execution_count": null,
   "metadata": {},
   "outputs": [],
   "source": []
  },
  {
   "cell_type": "markdown",
   "metadata": {},
   "source": [
    "## DevelopmentEnvironments\n",
    "\n",
    "- Monitoring: true # Specifies whether the monitoring is enabled (💥 noch nicht herausgefunden, wie zu lösen)\n",
    "- DisableDeveloperEnvironmentCreationByNonAdminUsers: true # Specifies whether the developer environment.."
   ]
  },
  {
   "cell_type": "code",
   "execution_count": null,
   "metadata": {},
   "outputs": [],
   "source": [
    "POST https://api.bap.microsoft.com/providers/Microsoft.BusinessAppPlatform/scopes/admin/updateTenantSettings?api-version=2021-04-01"
   ]
  },
  {
   "cell_type": "markdown",
   "metadata": {},
   "source": [
    "## ProductionEnvironments\n",
    "\n",
    "- Monitoring: true # Specifies whether the monitoring is enabled\n",
    "- DisableEnvironmentCreationByNonAdminUsers: true # Specifies whether the environment creation by ..."
   ]
  },
  {
   "cell_type": "code",
   "execution_count": null,
   "metadata": {},
   "outputs": [],
   "source": [
    "POST https://api.bap.microsoft.com/providers/Microsoft.BusinessAppPlatform/scopes/admin/updateTenantSettings?api-version=2021-04-01"
   ]
  },
  {
   "cell_type": "markdown",
   "metadata": {},
   "source": [
    "## TrialEnvironments\n",
    "\n",
    "- Monitoring: true # Specifies whether the monitoring is enabled\n",
    "- DisableTrialEnvironmentCreationByNonAdminUsers: true # Specifies whether the trial environment .."
   ]
  },
  {
   "cell_type": "code",
   "execution_count": null,
   "metadata": {},
   "outputs": [],
   "source": [
    "POST https://api.bap.microsoft.com/providers/Microsoft.BusinessAppPlatform/scopes/admin/updateTenantSettings?api-version=2021-04-01"
   ]
  },
  {
   "cell_type": "code",
   "execution_count": null,
   "metadata": {},
   "outputs": [],
   "source": [
    "# DataPolicies\n"
   ]
  }
 ],
 "metadata": {
  "kernelspec": {
   "display_name": "PowerShell",
   "language": "powershell",
   "name": "powershell"
  },
  "language_info": {
   "codemirror_mode": "shell",
   "file_extension": ".ps1",
   "mimetype": "text/x-sh",
   "name": "powershell"
  }
 },
 "nbformat": 4,
 "nbformat_minor": 2
}
